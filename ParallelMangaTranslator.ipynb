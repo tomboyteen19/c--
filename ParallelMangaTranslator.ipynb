{
  "cells": [
    {
      "cell_type": "markdown",
      "metadata": {
        "id": "view-in-github",
        "colab_type": "text"
      },
      "source": [
        "<a href=\"https://colab.research.google.com/github/tomboyteen19/c--/blob/main/ParallelMangaTranslator.ipynb\" target=\"_parent\"><img src=\"https://colab.research.google.com/assets/colab-badge.svg\" alt=\"Open In Colab\"/></a>"
      ]
    },
    {
      "cell_type": "code",
      "execution_count": null,
      "metadata": {
        "id": "Tc94ITrxsCbw"
      },
      "outputs": [],
      "source": [
        "#@title <font color='#018ada'>[1] Clonar repositorio e instalar dependencias</font> { display-mode: \"form\" }\n",
        "%cd /content\n",
        "# Clonar el repositorio\n",
        "!git clone https://github.com/Omarleel/ParallelMangaTranslator.git\n",
        "# Accede al proyecto\n",
        "%cd ParallelMangaTranslator\n",
        "# Instalar dependencias\n",
        "!pip install -r requirements.txt"
      ]
    },
    {
      "cell_type": "code",
      "execution_count": null,
      "metadata": {
        "id": "T3t62SAesCb0"
      },
      "outputs": [],
      "source": [
        "\n",
        "#@title <font color='#018ada'>[2] Parámetros de entrada</font> { display-mode: \"form\" }\n",
        "\n",
        "import os\n",
        "from loguru import logger\n",
        "import sys\n",
        "import warnings\n",
        "import torch\n",
        "\n",
        "from Applications.ParallelProcessor import ParallelProcessor\n",
        "from Applications.ImageProcessor import ImageProcessor\n",
        "from Applications.Utilities import Utilities\n",
        "from Utils.Constantes import RUTA_REMOTA\n",
        "from Applications.GoogleDriveManager import GoogleDriveManager\n",
        "\n",
        "logger.remove()\n",
        "warnings.filterwarnings(\"ignore\", message=\"The class ViTFeatureExtractor is deprecated\", category=FutureWarning)\n",
        "os.environ['PYTORCH_CUDA_ALLOC_CONF'] = 'expandable_segments:True'\n",
        "\n",
        "if __name__ == '__main__':\n",
        "    torch.cuda.empty_cache()\n",
        "    utilities = Utilities()\n",
        "    utilities.download_fonts()\n",
        "    utilities.download_models()\n",
        "    drive_manager = GoogleDriveManager()\n",
        "    drive_manager.create_folder(RUTA_REMOTA)\n",
        "    modelo_inpaint = \"lama_mpe\" #@param ['opencv-tela', 'lama_mpe', 'lama_large_512px', 'aot', 'B/N']\n",
        "    batch_size = 8 # @param {type:\"integer\"}\n",
        "    idioma_entrada = \"Japonés\" #@param ['Chino', 'Coreano', 'Español', 'Inglés', 'Japonés']\n",
        "    idioma_salida = \"Español\" #@param ['Español', 'Inglés', 'Portugués', 'Francés', 'Italiano']\n",
        "    url_imagenes = \"https://drive.google.com/file/d/...\" #@param {type:\"string\"}\n",
        "    ruta_carpeta_entrada = utilities.descargar_y_extraer_zip(drive_manager, url_imagenes)\n",
        "    if ruta_carpeta_entrada is None:\n",
        "        _, _, ruta_carpeta_entrada = drive_manager.download_folder_by_link(url_imagenes)\n",
        "    if ruta_carpeta_entrada is None:\n",
        "        sys.exit()\n",
        "\n",
        "    ruta_carpeta_salida = os.path.join(ruta_carpeta_entrada, \"Outputs\")\n",
        "    ruta_carpeta_limpieza = os.path.join(ruta_carpeta_salida, \"Limpieza\")\n",
        "    ruta_carpeta_traduccion = os.path.join(ruta_carpeta_salida, \"Traduccion\")\n",
        "    os.makedirs(ruta_carpeta_salida, exist_ok=True)\n",
        "    os.makedirs(ruta_carpeta_limpieza, exist_ok=True)\n",
        "    os.makedirs(ruta_carpeta_traduccion, exist_ok=True)\n",
        "\n",
        "    image_procesor = ImageProcessor(\n",
        "        idioma_entrada=idioma_entrada,\n",
        "        idioma_salida=idioma_salida,\n",
        "        modelo_inpaint=modelo_inpaint\n",
        "    )\n",
        "\n",
        "    parallel_processor = ParallelProcessor()\n",
        "    parallel_processor.procesar(\n",
        "        ruta_carpeta_entrada=ruta_carpeta_entrada,\n",
        "        ruta_carpeta_salida=ruta_carpeta_salida,\n",
        "        process_func=image_procesor.procesar,\n",
        "        batch_size=batch_size,\n",
        "        parallel=False\n",
        "    )\n",
        "\n",
        "    drive_manager.upload_folder(\n",
        "        input_folder_path=ruta_carpeta_salida,\n",
        "        output_folder_name=os.path.splitext(os.path.basename(ruta_carpeta_entrada))[0]\n",
        "    )\n"
      ]
    },
    {
      "cell_type": "code",
      "source": [
        "\n",
        "from google.colab import drive\n",
        "drive.mount( '/content/gdrive' )"
      ],
      "metadata": {
        "id": "aFy0Uui1-nOV"
      },
      "execution_count": null,
      "outputs": []
    },
    {
      "cell_type": "code",
      "source": [
        "! wget \"\" -O \"pokemon.m3u8\"\n"
      ],
      "metadata": {
        "id": "iHYrHmoc-o37"
      },
      "execution_count": null,
      "outputs": []
    },
    {
      "cell_type": "code",
      "source": [
        "! mv \"filename\" drive/MyDrive/\"destination\""
      ],
      "metadata": {
        "id": "Emg3kRsO-rdb"
      },
      "execution_count": null,
      "outputs": []
    }
  ],
  "metadata": {
    "accelerator": "GPU",
    "colab": {
      "gpuType": "T4",
      "provenance": [],
      "include_colab_link": true
    },
    "kernelspec": {
      "display_name": "Python 3",
      "name": "python3"
    },
    "language_info": {
      "name": "python"
    }
  },
  "nbformat": 4,
  "nbformat_minor": 0
}